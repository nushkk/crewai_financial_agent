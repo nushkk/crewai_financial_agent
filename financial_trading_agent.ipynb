{
 "cells": [
  {
   "cell_type": "markdown",
   "id": "ca67e325-5ea4-4bb3-be44-18c084f7a19b",
   "metadata": {},
   "source": [
    "# 📈 CrewAI Multi-Agent Financial Analysis System\n",
    "\n",
    "This project demonstrates a multi-agent system for analyzing financial markets using [CrewAI](https://github.com/joaomdmoura/crewai), OpenAI's GPT-3.5 Turbo, and real-time web tools.\n",
    "\n",
    "It simulates a team of collaborative agents that:\n",
    "- 🔍 **Monitor live stock data**\n",
    "- 🧠 **Generate trading strategies**\n",
    "- 🛠 **Plan trade executions**\n",
    "- ⚠️ **Evaluate financial risk**\n",
    "\n",
    "## 🚀 Technologies Used\n",
    "- 🧠 OpenAI GPT-3.5 Turbo (via `langchain-openai`)\n",
    "- 🕸 CrewAI multi-agent framework\n",
    "- 🔧 Serper.dev (Google Search API)\n",
    "- 📄 Python + Jupyter Notebook"
   ]
  },
  {
   "cell_type": "code",
   "execution_count": null,
   "id": "601a886a-deac-436b-8eab-f42e418a0794",
   "metadata": {},
   "outputs": [],
   "source": [
    "import warnings\n",
    "warnings.filterwarnings('ignore')\n",
    "\n",
    "from crewai import Agent, Task, Crew, Process\n",
    "from crewai_tools import ScrapeWebsiteTool, SerperDevTool\n",
    "from langchain_openai import ChatOpenAI\n",
    "import os\n",
    "\n",
    "from utils import get_openai_api_key, get_serper_api_key"
   ]
  },
  {
   "cell_type": "code",
   "execution_count": null,
   "id": "3ab97fd1-bd8a-44de-9ad2-8477d554b243",
   "metadata": {},
   "outputs": [],
   "source": [
    "openai_api_key = get_openai_api_key()\n",
    "os.environ[\"OPENAI_MODEL_NAME\"] = \"gpt-3.5-turbo\"\n",
    "os.environ[\"SERPER_API_KEY\"] = get_serper_api_key()"
   ]
  },
  {
   "cell_type": "code",
   "execution_count": null,
   "id": "4a86bf43-57c7-47ae-949b-83af07311c3f",
   "metadata": {},
   "outputs": [],
   "source": [
    "# Tools\n",
    "search_tool = SerperDevTool()\n",
    "scrape_tool = ScrapeWebsiteTool()"
   ]
  },
  {
   "cell_type": "code",
   "execution_count": null,
   "id": "13666f54-047f-4d9c-9e71-1f051fe7c596",
   "metadata": {},
   "outputs": [],
   "source": [
    "# Create Agents\n",
    "data_analyst_agent = Agent(\n",
    "    role=\"Data Analyst\",\n",
    "    goal=\"Monitor and analyze market data in real-time to identify trends and predict market movements.\",\n",
    "    backstory=\"Specializing in financial markets, this agent uses statistical modeling and machine learning to provide crucial insights.\",\n",
    "    verbose=True,\n",
    "    allow_delegation=True,\n",
    "    tools=[scrape_tool, search_tool]\n",
    ")\n",
    "\n",
    "trading_strategy_agent = Agent(\n",
    "    role=\"Trading Strategy Developer\",\n",
    "    goal=\"Develop and test various trading strategies based on insights from the Data Analyst Agent.\",\n",
    "    backstory=\"This agent devises and refines trading strategies based on financial data and market trends.\",\n",
    "    verbose=True,\n",
    "    allow_delegation=True,\n",
    "    tools=[scrape_tool, search_tool]\n",
    ")\n",
    "\n",
    "execution_agent = Agent(\n",
    "    role=\"Trade Advisor\",\n",
    "    goal=\"Suggest optimal trade execution strategies based on approved trading strategies.\",\n",
    "    backstory=\"Specializing in timing and logistics of trades to optimize results.\",\n",
    "    verbose=True,\n",
    "    allow_delegation=True,\n",
    "    tools=[scrape_tool, search_tool]\n",
    ")\n",
    "\n",
    "risk_management_agent = Agent(\n",
    "    role=\"Risk Advisor\",\n",
    "    goal=\"Evaluate and provide insights on the risks associated with potential trading activities.\",\n",
    "    backstory=\"Expert in risk assessment models and financial safeguards.\",\n",
    "    verbose=True,\n",
    "    allow_delegation=True,\n",
    "    tools=[scrape_tool, search_tool]\n",
    ")"
   ]
  },
  {
   "cell_type": "code",
   "execution_count": null,
   "id": "7f070eda-9b16-4067-84fe-596c2bd6cb77",
   "metadata": {},
   "outputs": [],
   "source": [
    "# Create Tasks\n",
    "# Task for Data Analyst Agent: Analyze Market Data\n",
    "data_analysis_task = Task(\n",
    "    description=(\n",
    "        \"Continuously monitor and analyze market data for \"\n",
    "        \"the selected stock ({stock_selection}). Use statistical modeling and machine learning to \"\n",
    "        \"identify trends and predict market movements.\"\n",
    "    ),\n",
    "    expected_output=(\n",
    "        \"Insights and alerts about significant market opportunities or threats for {stock_selection}.\"\n",
    "    ),\n",
    "    agent=data_analyst_agent\n",
    ")\n",
    "\n",
    "# Task for Trading Strategy Agent: Develop Trading Strategies\n",
    "strategy_development_task = Task(\n",
    "    description=(\n",
    "        \"Develop and refine trading strategies based on \"\n",
    "        \"the insights from the Data Analyst and \"\n",
    "        \"user-defined risk tolerance ({risk_tolerance}). \"\n",
    "        \"Consider trading preferences ({trading_strategy_preference}).\"\n",
    "    ),\n",
    "    expected_output=(\n",
    "        \"A set of potential trading strategies for {stock_selection} that align with the user's risk tolerance.\"\n",
    "    ),\n",
    "    agent=trading_strategy_agent\n",
    ")\n",
    "\n",
    "# Task for Trade Advisor Agent: Plan Trade Execution\n",
    "execution_planning_task = Task(\n",
    "    description=(\n",
    "        \"Analyze approved trading strategies to determine the best execution methods \"\n",
    "        \"for {stock_selection}, considering current market conditions and optimal pricing.\"\n",
    "    ),\n",
    "    expected_output=(\n",
    "        \"Detailed execution plans suggesting how and when to execute trades for {stock_selection}.\"\n",
    "    ),\n",
    "    agent=execution_agent\n",
    ")\n",
    "\n",
    "# Task for Risk Advisor Agent: Assess Trading Risks\n",
    "risk_assessment_task = Task(\n",
    "    description=(\n",
    "        \"Evaluate the risks associated with the proposed trading strategies and execution plans for \"\n",
    "        \"{stock_selection}. Provide a detailed analysis of potential risks and suggest mitigation strategies.\"\n",
    "    ),\n",
    "    expected_output=(\n",
    "        \"A comprehensive risk analysis report detailing potential risks and mitigation recommendations for {stock_selection}.\"\n",
    "    ),\n",
    "    agent=risk_management_agent\n",
    ")"
   ]
  },
  {
   "cell_type": "code",
   "execution_count": null,
   "id": "6f92071d-27f2-4a39-80d5-ea19ca6342a5",
   "metadata": {},
   "outputs": [],
   "source": [
    "# Create the crew\n",
    "# Define the crew with agents and tasks\n",
    "financial_trading_crew = Crew(\n",
    "    agents=[\n",
    "        data_analyst_agent,\n",
    "        trading_strategy_agent,\n",
    "        execution_agent,\n",
    "        risk_management_agent\n",
    "    ],\n",
    "    tasks=[\n",
    "        data_analysis_task,\n",
    "        strategy_development_task,\n",
    "        execution_planning_task,\n",
    "        risk_assessment_task\n",
    "    ],\n",
    "    manager_llm=ChatOpenAI(model=\"gpt-3.5-turbo\", temperature=0.7),\n",
    "    process=Process.hierarchical,\n",
    "    verbose=True\n",
    ")"
   ]
  },
  {
   "cell_type": "code",
   "execution_count": null,
   "id": "26075cab-c5f0-4d4a-a811-7e0516810148",
   "metadata": {},
   "outputs": [],
   "source": [
    "# Example data for kicking off the process\n",
    "financial_trading_inputs = {\n",
    "    'stock_selection': 'AAPL',\n",
    "    'initial_capital': '100000',\n",
    "    'risk_tolerance': 'Medium',\n",
    "    'trading_strategy_preference': 'Day Trading',\n",
    "    'news_impact_consideration': True\n",
    "}"
   ]
  },
  {
   "cell_type": "code",
   "execution_count": null,
   "id": "587bc77e-499c-4e0a-bb91-bd302258b997",
   "metadata": {},
   "outputs": [],
   "source": [
    "result = financial_trading_crew.kickoff(inputs=financial_trading_inputs)"
   ]
  },
  {
   "cell_type": "code",
   "execution_count": null,
   "id": "0f57a19f-368a-4b2d-8064-e478b1fe3a4c",
   "metadata": {},
   "outputs": [],
   "source": [
    "from IPython.display import Markdown\n",
    "Markdown(result)"
   ]
  },
  {
   "cell_type": "code",
   "execution_count": null,
   "id": "c6ac8427-c719-44f0-a7bc-f2268e56a2a4",
   "metadata": {},
   "outputs": [],
   "source": []
  }
 ],
 "metadata": {
  "kernelspec": {
   "display_name": "Python 3 (ipykernel)",
   "language": "python",
   "name": "python3"
  },
  "language_info": {
   "codemirror_mode": {
    "name": "ipython",
    "version": 3
   },
   "file_extension": ".py",
   "mimetype": "text/x-python",
   "name": "python",
   "nbconvert_exporter": "python",
   "pygments_lexer": "ipython3",
   "version": "3.11.9"
  }
 },
 "nbformat": 4,
 "nbformat_minor": 5
}
